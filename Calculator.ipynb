{
 "cells": [
  {
   "cell_type": "code",
   "execution_count": 3,
   "id": "a7c89723",
   "metadata": {},
   "outputs": [
    {
     "name": "stderr",
     "output_type": "stream",
     "text": [
      "[WARNING] [Config      ] Older configuration version detected (0 instead of 27)\n",
      "[WARNING] [Config      ] Upgrading configuration in progress.\n",
      "[DEBUG  ] [Config      ] Upgrading from 0 to 1\n",
      "[INFO   ] [Logger      ] Record log in /Users/santoshgurudarbha/.kivy/logs/kivy_24-05-04_0.txt\n",
      "[INFO   ] [Kivy        ] v2.3.0\n",
      "[INFO   ] [Kivy        ] Installed at \"/opt/anaconda3/lib/python3.11/site-packages/kivy/__init__.py\"\n",
      "[INFO   ] [Python      ] v3.11.7 (main, Dec 15 2023, 12:09:04) [Clang 14.0.6 ]\n",
      "[INFO   ] [Python      ] Interpreter at \"/opt/anaconda3/bin/python\"\n",
      "[INFO   ] [Logger      ] Purge log fired. Processing...\n",
      "[INFO   ] [Logger      ] Purge finished!\n",
      "[INFO   ] [Factory     ] 195 symbols loaded\n",
      "[INFO   ] [Image       ] Providers: img_tex, img_imageio, img_dds, img_sdl2, img_pil (img_ffpyplayer ignored)\n",
      "[INFO   ] [Text        ] Provider: sdl2\n"
     ]
    },
    {
     "ename": "OSError",
     "evalue": "source code not available",
     "output_type": "error",
     "traceback": [
      "\u001b[0;31m---------------------------------------------------------------------------\u001b[0m",
      "\u001b[0;31mOSError\u001b[0m                                   Traceback (most recent call last)",
      "Cell \u001b[0;32mIn[3], line 43\u001b[0m\n\u001b[1;32m     41\u001b[0m         root_widget\u001b[38;5;241m.\u001b[39madd_widget(clear_button)\n\u001b[1;32m     42\u001b[0m         \u001b[38;5;28;01mreturn\u001b[39;00m root_widget\n\u001b[0;32m---> 43\u001b[0m myApp()\u001b[38;5;241m.\u001b[39mrun()\n",
      "File \u001b[0;32m/opt/anaconda3/lib/python3.11/site-packages/kivy/app.py:955\u001b[0m, in \u001b[0;36mApp.run\u001b[0;34m(self)\u001b[0m\n\u001b[1;32m    952\u001b[0m \u001b[38;5;28;01mdef\u001b[39;00m \u001b[38;5;21mrun\u001b[39m(\u001b[38;5;28mself\u001b[39m):\n\u001b[1;32m    953\u001b[0m \u001b[38;5;250m    \u001b[39m\u001b[38;5;124;03m'''Launches the app in standalone mode.\u001b[39;00m\n\u001b[1;32m    954\u001b[0m \u001b[38;5;124;03m    '''\u001b[39;00m\n\u001b[0;32m--> 955\u001b[0m     \u001b[38;5;28mself\u001b[39m\u001b[38;5;241m.\u001b[39m_run_prepare()\n\u001b[1;32m    956\u001b[0m     runTouchApp()\n\u001b[1;32m    957\u001b[0m     \u001b[38;5;28mself\u001b[39m\u001b[38;5;241m.\u001b[39m_stop()\n",
      "File \u001b[0;32m/opt/anaconda3/lib/python3.11/site-packages/kivy/app.py:924\u001b[0m, in \u001b[0;36mApp._run_prepare\u001b[0;34m(self)\u001b[0m\n\u001b[1;32m    922\u001b[0m \u001b[38;5;28;01mif\u001b[39;00m \u001b[38;5;129;01mnot\u001b[39;00m \u001b[38;5;28mself\u001b[39m\u001b[38;5;241m.\u001b[39mbuilt:\n\u001b[1;32m    923\u001b[0m     \u001b[38;5;28mself\u001b[39m\u001b[38;5;241m.\u001b[39mload_config()\n\u001b[0;32m--> 924\u001b[0m     \u001b[38;5;28mself\u001b[39m\u001b[38;5;241m.\u001b[39mload_kv(filename\u001b[38;5;241m=\u001b[39m\u001b[38;5;28mself\u001b[39m\u001b[38;5;241m.\u001b[39mkv_file)\n\u001b[1;32m    925\u001b[0m     root \u001b[38;5;241m=\u001b[39m \u001b[38;5;28mself\u001b[39m\u001b[38;5;241m.\u001b[39mbuild()\n\u001b[1;32m    926\u001b[0m     \u001b[38;5;28;01mif\u001b[39;00m root:\n",
      "File \u001b[0;32m/opt/anaconda3/lib/python3.11/site-packages/kivy/app.py:677\u001b[0m, in \u001b[0;36mApp.load_kv\u001b[0;34m(self, filename)\u001b[0m\n\u001b[1;32m    675\u001b[0m \u001b[38;5;28;01melse\u001b[39;00m:\n\u001b[1;32m    676\u001b[0m     \u001b[38;5;28;01mtry\u001b[39;00m:\n\u001b[0;32m--> 677\u001b[0m         default_kv_directory \u001b[38;5;241m=\u001b[39m dirname(getfile(\u001b[38;5;28mself\u001b[39m\u001b[38;5;241m.\u001b[39m\u001b[38;5;18m__class__\u001b[39m))\n\u001b[1;32m    678\u001b[0m         \u001b[38;5;28;01mif\u001b[39;00m default_kv_directory \u001b[38;5;241m==\u001b[39m \u001b[38;5;124m'\u001b[39m\u001b[38;5;124m'\u001b[39m:\n\u001b[1;32m    679\u001b[0m             default_kv_directory \u001b[38;5;241m=\u001b[39m \u001b[38;5;124m'\u001b[39m\u001b[38;5;124m.\u001b[39m\u001b[38;5;124m'\u001b[39m\n",
      "File \u001b[0;32m/opt/anaconda3/lib/python3.11/inspect.py:908\u001b[0m, in \u001b[0;36mgetfile\u001b[0;34m(object)\u001b[0m\n\u001b[1;32m    906\u001b[0m             \u001b[38;5;28;01mreturn\u001b[39;00m module\u001b[38;5;241m.\u001b[39m\u001b[38;5;18m__file__\u001b[39m\n\u001b[1;32m    907\u001b[0m         \u001b[38;5;28;01mif\u001b[39;00m \u001b[38;5;28mobject\u001b[39m\u001b[38;5;241m.\u001b[39m\u001b[38;5;18m__module__\u001b[39m \u001b[38;5;241m==\u001b[39m \u001b[38;5;124m'\u001b[39m\u001b[38;5;124m__main__\u001b[39m\u001b[38;5;124m'\u001b[39m:\n\u001b[0;32m--> 908\u001b[0m             \u001b[38;5;28;01mraise\u001b[39;00m \u001b[38;5;167;01mOSError\u001b[39;00m(\u001b[38;5;124m'\u001b[39m\u001b[38;5;124msource code not available\u001b[39m\u001b[38;5;124m'\u001b[39m)\n\u001b[1;32m    909\u001b[0m     \u001b[38;5;28;01mraise\u001b[39;00m \u001b[38;5;167;01mTypeError\u001b[39;00m(\u001b[38;5;124m'\u001b[39m\u001b[38;5;132;01m{!r}\u001b[39;00m\u001b[38;5;124m is a built-in class\u001b[39m\u001b[38;5;124m'\u001b[39m\u001b[38;5;241m.\u001b[39mformat(\u001b[38;5;28mobject\u001b[39m))\n\u001b[1;32m    910\u001b[0m \u001b[38;5;28;01mif\u001b[39;00m ismethod(\u001b[38;5;28mobject\u001b[39m):\n",
      "\u001b[0;31mOSError\u001b[0m: source code not available"
     ]
    }
   ],
   "source": [
    "from kivy.app import App\n",
    "from kivy.uix.button import Button\n",
    "from kivy.uix.boxlayout import BoxLayout\n",
    "from kivy.uix.gridlayout import GridLayout\n",
    "from kivy.uix.label import Label\n",
    "\n",
    "class myApp(App):\n",
    "    def build(self):\n",
    "        root_widget = BoxLayout(orientation='vertical')\n",
    "        output_label = Label(size_hint_y = 0.75, font_size=50)\n",
    "        button_symbols = ('1', '2', '3', '+',\n",
    "                          '4', '5', '6', '-',\n",
    "                          '7', '8', '9', '.',\n",
    "                          '0', '*', '/', '=')\n",
    "        button_grid = GridLayout(cols=4, size_hint_y=2)\n",
    "        for symbol in button_symbols:\n",
    "            button_grid.add_widget(Button(text=symbol))\n",
    "\n",
    "        clear_button = Button(text = 'Clear', size_hint_y=None, height=100)\n",
    "        def print_button_text(instance):\n",
    "            output_label.text += instance.text\n",
    "        for button in button_grid.children[1:]:\n",
    "            button.bind(on_press=print_button_text)\n",
    "        def resize_label_text(label, new_height):\n",
    "            label.fontsize = 0.5*label.height\n",
    "        output_label.bind(height=resize_label_text)\n",
    "\n",
    "        def evaluate_result(instance):\n",
    "            try:\n",
    "                output_label.text = str(eval(output_label.text))\n",
    "            except SyntaxError:\n",
    "                output_label.text = 'Python Syntax error!'\n",
    "        button_grid.children[0].bind(on_press=evaluate_result)\n",
    "\n",
    "        def clear_label(instance):\n",
    "            output_label.text = \" \"\n",
    "        clear_button.bind(on_press=clear_label)\n",
    "\n",
    "        root_widget.add_widget(output_label)\n",
    "        root_widget.add_widget(button_grid)\n",
    "        root_widget.add_widget(clear_button)\n",
    "        return root_widget\n",
    "myApp().run()"
   ]
  },
  {
   "cell_type": "code",
   "execution_count": 2,
   "id": "e651dc2d",
   "metadata": {},
   "outputs": [
    {
     "name": "stdout",
     "output_type": "stream",
     "text": [
      "Collecting kivy\n",
      "  Downloading Kivy-2.3.0-cp311-cp311-macosx_10_9_universal2.whl.metadata (15 kB)\n",
      "Collecting Kivy-Garden>=0.1.4 (from kivy)\n",
      "  Downloading Kivy_Garden-0.1.5-py3-none-any.whl.metadata (159 bytes)\n",
      "Requirement already satisfied: docutils in /opt/anaconda3/lib/python3.11/site-packages (from kivy) (0.18.1)\n",
      "Requirement already satisfied: pygments in /opt/anaconda3/lib/python3.11/site-packages (from kivy) (2.15.1)\n",
      "Requirement already satisfied: requests in /opt/anaconda3/lib/python3.11/site-packages (from Kivy-Garden>=0.1.4->kivy) (2.31.0)\n",
      "Requirement already satisfied: charset-normalizer<4,>=2 in /opt/anaconda3/lib/python3.11/site-packages (from requests->Kivy-Garden>=0.1.4->kivy) (2.0.4)\n",
      "Requirement already satisfied: idna<4,>=2.5 in /opt/anaconda3/lib/python3.11/site-packages (from requests->Kivy-Garden>=0.1.4->kivy) (3.4)\n",
      "Requirement already satisfied: urllib3<3,>=1.21.1 in /opt/anaconda3/lib/python3.11/site-packages (from requests->Kivy-Garden>=0.1.4->kivy) (2.0.7)\n",
      "Requirement already satisfied: certifi>=2017.4.17 in /opt/anaconda3/lib/python3.11/site-packages (from requests->Kivy-Garden>=0.1.4->kivy) (2024.2.2)\n",
      "Downloading Kivy-2.3.0-cp311-cp311-macosx_10_9_universal2.whl (11.3 MB)\n",
      "\u001b[2K   \u001b[90m━━━━━━━━━━━━━━━━━━━━━━━━━━━━━━━━━━━━━━━━\u001b[0m \u001b[32m11.3/11.3 MB\u001b[0m \u001b[31m1.5 MB/s\u001b[0m eta \u001b[36m0:00:00\u001b[0m00:01\u001b[0m00:01\u001b[0mm\n",
      "\u001b[?25hDownloading Kivy_Garden-0.1.5-py3-none-any.whl (4.6 kB)\n",
      "Installing collected packages: Kivy-Garden, kivy\n",
      "Successfully installed Kivy-Garden-0.1.5 kivy-2.3.0\n"
     ]
    }
   ],
   "source": [
    "!pip install kivy\n"
   ]
  },
  {
   "cell_type": "code",
   "execution_count": null,
   "id": "a5ac6e3f",
   "metadata": {},
   "outputs": [],
   "source": []
  }
 ],
 "metadata": {
  "kernelspec": {
   "display_name": "Python 3 (ipykernel)",
   "language": "python",
   "name": "python3"
  },
  "language_info": {
   "codemirror_mode": {
    "name": "ipython",
    "version": 3
   },
   "file_extension": ".py",
   "mimetype": "text/x-python",
   "name": "python",
   "nbconvert_exporter": "python",
   "pygments_lexer": "ipython3",
   "version": "3.11.7"
  }
 },
 "nbformat": 4,
 "nbformat_minor": 5
}
